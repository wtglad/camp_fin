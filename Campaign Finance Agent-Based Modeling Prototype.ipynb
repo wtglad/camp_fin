{
 "cells": [
  {
   "cell_type": "markdown",
   "metadata": {},
   "source": [
    "# Campaign Finance Agent-Based Modeling Prototype"
   ]
  },
  {
   "cell_type": "code",
   "execution_count": 265,
   "metadata": {},
   "outputs": [],
   "source": [
    "from mesa import Agent, Model\n",
    "from mesa.time import RandomActivation\n",
    "import random\n",
    "import seaborn as sns\n",
    "import pandas as pd\n",
    "import numpy as np\n",
    "import matplotlib.pyplot as plt\n",
    "%matplotlib inline"
   ]
  },
  {
   "cell_type": "markdown",
   "metadata": {},
   "source": [
    "## Instantiate agent objects"
   ]
  },
  {
   "cell_type": "code",
   "execution_count": 325,
   "metadata": {},
   "outputs": [],
   "source": [
    "class Contributor(Agent):  \n",
    "    ''' \n",
    "    Contributors are the sources of funding for various politicians. \n",
    "    They can be companies, trade associations, political parties, and \n",
    "    other kinds of large organizations. They tend to have differing given funding \n",
    "    amounts and policy goals (simplified here as an ideology score, see notes \n",
    "    for explanation).\n",
    "    '''\n",
    "    \n",
    "    def __init__(self, unique_id, model):\n",
    "        super().__init__(unique_id, model)\n",
    "        \n",
    "        # Agent attributes (randomly generated for now)\n",
    "        self.funds = np.random.normal(100,10)\n",
    "        self.ideology = np.random.normal(0,1.2) \n",
    "        \n",
    "    '''\n",
    "    Each successive turn represents an election. Each turn, contributors \n",
    "    will decide the politicians to whom they allocate funds based on a combination of their \n",
    "    ideological proximity and the candidate's perceived likelihood of winning that \n",
    "    election (this model still in progress). \n",
    "    \n",
    "    '''    \n",
    "        \n",
    "    def step(self):\n",
    "        \n",
    "        politicians = list(dict(list(model.schedule.agents_by_breed.items())[1][1]).values())\n",
    "        politician_ideologies = [a.ideology for a in politicians]\n",
    "    \n",
    "        \n",
    "        # If contributor has funds, find politician with closest ideology and give them contribution\n",
    "        if self.funds == 0:\n",
    "            return\n",
    "        \n",
    "               \n",
    "        # This is a quick implementation of closest neighbor but doesn't help for reporting\n",
    "        closest_politician_index = min(range(len(politician_ideologies)), \n",
    "                                       key=lambda i: abs(politician_ideologies[i] - self.ideology))\n",
    "        chosen_politician = politicians[closest_politician_index]\n",
    "        \n",
    "        # Randomly select contribution from remaining funds\n",
    "        contribution = np.random.normal(self.funds/2.0, self.funds/6.0)\n",
    "            \n",
    "        chosen_politician.funds += contribution\n",
    "        self.funds -= contribution\n",
    "        \n",
    "        # FOR TESTING/VIZ \n",
    "        choices_df = pd.DataFrame(politician_ideologies, columns=['poli_ideology'])\n",
    "        choices_df['diff'] = abs(choices_df['poli_ideology'] - self.ideology) \n",
    "        print(choices_df)\n",
    "        print(f'{self.unique_id} gave funds to {chosen_politician.unique_id}')\n",
    "        \n",
    "        \n",
    "        \n",
    "        \n",
    "        "
   ]
  },
  {
   "cell_type": "code",
   "execution_count": 332,
   "metadata": {},
   "outputs": [],
   "source": [
    "class Politician(Agent):\n",
    "    \"\"\" Politicians will receive funds each turn and based on a TBD combination of factors \n",
    "    will either win or lose. Their ideology will shift over time based on their victory / re-election\n",
    "    patterns and their ability to raise funds.    \n",
    "    \n",
    "    \"\"\"\n",
    "    def __init__(self, unique_id, model):\n",
    "        super().__init__(unique_id, model)\n",
    "        self.funds = 0\n",
    "        self.ideology = np.random.normal(0,1.2)\n",
    "\n",
    "    def step(self):\n",
    "        #self.ideology += np.random.normal(0,.1)\n",
    "        # TO DO: Ideological drift (RL?)\n",
    "        pass"
   ]
  },
  {
   "cell_type": "markdown",
   "metadata": {},
   "source": [
    "### Package for handling multi-agent type system (taken from Mesa wolf-sheep example, will be relocated to imported package instead of appearing here)"
   ]
  },
  {
   "cell_type": "code",
   "execution_count": 306,
   "metadata": {},
   "outputs": [],
   "source": [
    "from collections import defaultdict\n",
    "\n",
    "from mesa.time import RandomActivation\n",
    "\n",
    "\n",
    "class RandomActivationByBreed(RandomActivation):\n",
    "    '''\n",
    "    A scheduler which activates each type of agent once per step, in random\n",
    "    order, with the order reshuffled every step.\n",
    "\n",
    "    This is equivalent to the NetLogo 'ask breed...' and is generally the\n",
    "    default behavior for an ABM.\n",
    "\n",
    "    Assumes that all agents have a step() method.\n",
    "    '''\n",
    "\n",
    "    def __init__(self, model):\n",
    "        super().__init__(model)\n",
    "        self.agents_by_breed = defaultdict(dict)\n",
    "\n",
    "    def add(self, agent):\n",
    "        '''\n",
    "        Add an Agent object to the schedule\n",
    "\n",
    "        Args:\n",
    "            agent: An Agent to be added to the schedule.\n",
    "        '''\n",
    "\n",
    "        self._agents[agent.unique_id] = agent\n",
    "        agent_class = type(agent)\n",
    "        self.agents_by_breed[agent_class][agent.unique_id] = agent\n",
    "\n",
    "    def remove(self, agent):\n",
    "        '''\n",
    "        Remove all instances of a given agent from the schedule.\n",
    "        '''\n",
    "\n",
    "        del self._agents[agent.unique_id]\n",
    "\n",
    "        agent_class = type(agent)\n",
    "        del self.agents_by_breed[agent_class][agent.unique_id]\n",
    "\n",
    "    def step(self, by_breed=True):\n",
    "        '''\n",
    "        Executes the step of each agent breed, one at a time, in random order.\n",
    "\n",
    "        Args:\n",
    "            by_breed: If True, run all agents of a single breed before running\n",
    "                      the next one.\n",
    "        '''\n",
    "        if by_breed:\n",
    "            for agent_class in self.agents_by_breed:\n",
    "                self.step_breed(agent_class)\n",
    "            self.steps += 1\n",
    "            self.time += 1\n",
    "        else:\n",
    "            super().step()\n",
    "\n",
    "    def step_breed(self, breed):\n",
    "        '''\n",
    "        Shuffle order and run all agents of a given breed.\n",
    "\n",
    "        Args:\n",
    "            breed: Class object of the breed to run.\n",
    "        '''\n",
    "        agent_keys = list(self.agents_by_breed[breed].keys())\n",
    "        self.model.random.shuffle(agent_keys)\n",
    "        for agent_key in agent_keys:\n",
    "            self.agents_by_breed[breed][agent_key].step()\n",
    "\n",
    "    def get_breed_count(self, breed_class):\n",
    "        '''\n",
    "        Returns the current number of agents of certain breed in the queue.\n",
    "        '''\n",
    "        return len(self.agents_by_breed[breed_class].values())\n"
   ]
  },
  {
   "cell_type": "markdown",
   "metadata": {},
   "source": [
    "## Election model system to initialize agents and schedule steps "
   ]
  },
  {
   "cell_type": "code",
   "execution_count": 307,
   "metadata": {},
   "outputs": [],
   "source": [
    "class ElectionModel(Model):\n",
    "    \"\"\"\n",
    "    This is the Mesa model engine to initialize the agents in the \n",
    "    system and set up the scheduler. \n",
    "    \n",
    "    \"\"\"\n",
    "    def __init__(self, num_contributors, num_politicians):\n",
    "        self.num_contributors = num_contributors\n",
    "        self.num_politicians = num_politicians\n",
    "        self.schedule = RandomActivationByBreed(self)\n",
    "        \n",
    "        # Create agents\n",
    "        for i in range(self.num_contributors):\n",
    "            a = Contributor(i, self)\n",
    "            self.schedule.add(a)\n",
    "        \n",
    "        for i in range(self.num_politicians):\n",
    "            a = Politician(i, self)\n",
    "            self.schedule.add(a)\n",
    "        \n",
    "        \n",
    "    def step(self):\n",
    "        '''Advance the model by one step.'''\n",
    "        self.schedule.step()"
   ]
  },
  {
   "cell_type": "markdown",
   "metadata": {},
   "source": [
    "# MODEL SIMULATION"
   ]
  },
  {
   "cell_type": "code",
   "execution_count": 326,
   "metadata": {},
   "outputs": [
    {
     "name": "stdout",
     "output_type": "stream",
     "text": [
      "   poli_ideology      diff\n",
      "0      -0.393094  1.359436\n",
      "1       1.857107  0.890765\n",
      "2       0.575520  0.390822\n",
      "3       0.729238  0.237104\n",
      "4       0.875593  0.090748\n",
      "5      -0.680248  1.646590\n",
      "6      -0.949776  1.916118\n",
      "7       0.692799  0.273543\n",
      "8      -0.105384  1.071726\n",
      "9       1.010470  0.044128\n",
      "2 gave funds to 9\n",
      "   poli_ideology      diff\n",
      "0      -0.393094  0.130277\n",
      "1       1.857107  2.380479\n",
      "2       0.575520  1.098891\n",
      "3       0.729238  1.252609\n",
      "4       0.875593  1.398965\n",
      "5      -0.680248  0.156877\n",
      "6      -0.949776  0.426405\n",
      "7       0.692799  1.216170\n",
      "8      -0.105384  0.417987\n",
      "9       1.010470  1.533841\n",
      "0 gave funds to 0\n",
      "   poli_ideology      diff\n",
      "0      -0.393094  0.532453\n",
      "1       1.857107  1.717749\n",
      "2       0.575520  0.436162\n",
      "3       0.729238  0.589879\n",
      "4       0.875593  0.736235\n",
      "5      -0.680248  0.819607\n",
      "6      -0.949776  1.089135\n",
      "7       0.692799  0.553440\n",
      "8      -0.105384  0.244743\n",
      "9       1.010470  0.871111\n",
      "1 gave funds to 8\n",
      "   poli_ideology      diff\n",
      "0      -0.393094  1.455242\n",
      "1       1.857107  0.794959\n",
      "2       0.575520  0.486628\n",
      "3       0.729238  0.332910\n",
      "4       0.875593  0.186554\n",
      "5      -0.680248  1.742396\n",
      "6      -0.949776  2.011924\n",
      "7       0.692799  0.369349\n",
      "8      -0.105384  1.167532\n",
      "9       1.010470  0.051678\n",
      "6 gave funds to 9\n",
      "   poli_ideology      diff\n",
      "0      -0.393094  0.718597\n",
      "1       1.857107  1.531605\n",
      "2       0.575520  0.250018\n",
      "3       0.729238  0.403735\n",
      "4       0.875593  0.550091\n",
      "5      -0.680248  1.005751\n",
      "6      -0.949776  1.275278\n",
      "7       0.692799  0.367296\n",
      "8      -0.105384  0.430887\n",
      "9       1.010470  0.684967\n",
      "7 gave funds to 2\n",
      "   poli_ideology      diff\n",
      "0      -0.393094  0.892133\n",
      "1       1.857107  1.358068\n",
      "2       0.575520  0.076481\n",
      "3       0.729238  0.230199\n",
      "4       0.875593  0.376554\n",
      "5      -0.680248  1.179288\n",
      "6      -0.949776  1.448815\n",
      "7       0.692799  0.193760\n",
      "8      -0.105384  0.604423\n",
      "9       1.010470  0.511431\n",
      "9 gave funds to 2\n",
      "   poli_ideology      diff\n",
      "0      -0.393094  0.292318\n",
      "1       1.857107  1.957883\n",
      "2       0.575520  0.676296\n",
      "3       0.729238  0.830014\n",
      "4       0.875593  0.976369\n",
      "5      -0.680248  0.579473\n",
      "6      -0.949776  0.849000\n",
      "7       0.692799  0.793575\n",
      "8      -0.105384  0.004608\n",
      "9       1.010470  1.111246\n",
      "3 gave funds to 8\n",
      "   poli_ideology      diff\n",
      "0      -0.393094  1.508190\n",
      "1       1.857107  3.758391\n",
      "2       0.575520  2.476804\n",
      "3       0.729238  2.630521\n",
      "4       0.875593  2.776877\n",
      "5      -0.680248  1.221035\n",
      "6      -0.949776  0.951508\n",
      "7       0.692799  2.594083\n",
      "8      -0.105384  1.795900\n",
      "9       1.010470  2.911754\n",
      "4 gave funds to 6\n",
      "   poli_ideology      diff\n",
      "0      -0.393094  2.773422\n",
      "1       1.857107  0.523221\n",
      "2       0.575520  1.804808\n",
      "3       0.729238  1.651090\n",
      "4       0.875593  1.504734\n",
      "5      -0.680248  3.060576\n",
      "6      -0.949776  3.330104\n",
      "7       0.692799  1.687529\n",
      "8      -0.105384  2.485712\n",
      "9       1.010470  1.369858\n",
      "8 gave funds to 1\n",
      "   poli_ideology      diff\n",
      "0      -0.393094  1.250232\n",
      "1       1.857107  3.500433\n",
      "2       0.575520  2.218846\n",
      "3       0.729238  2.372564\n",
      "4       0.875593  2.518920\n",
      "5      -0.680248  0.963078\n",
      "6      -0.949776  0.693550\n",
      "7       0.692799  2.336125\n",
      "8      -0.105384  1.537942\n",
      "9       1.010470  2.653796\n",
      "5 gave funds to 6\n"
     ]
    }
   ],
   "source": [
    "model = ElectionModel(num_contributors=10, num_politicians=10)\n",
    "\n",
    "# range represents number of successive turns, here just showing 1\n",
    "# need to figure out way to represent over time - see Mesa wolf/sheep example\n",
    "\n",
    "for i in range(1):\n",
    "    model.step()"
   ]
  },
  {
   "cell_type": "code",
   "execution_count": 328,
   "metadata": {},
   "outputs": [],
   "source": [
    "cont_ids = [a.unique_id for a in list(dict(list(model.schedule.agents_by_breed.items())[0][1]).values())]\n",
    "poli_ids = [a.unique_id for a in list(dict(list(model.schedule.agents_by_breed.items())[1][1]).values())]\n",
    "\n",
    "cont_ideos = [a.ideology for a in list(dict(list(model.schedule.agents_by_breed.items())[0][1]).values())]\n",
    "poli_ideos = [a.ideology for a in list(dict(list(model.schedule.agents_by_breed.items())[1][1]).values())]\n",
    "\n",
    "cont_funds = [a.funds for a in list(dict(list(model.schedule.agents_by_breed.items())[0][1]).values())]\n",
    "poli_funds = [a.funds for a in list(dict(list(model.schedule.agents_by_breed.items())[1][1]).values())]\n",
    "\n",
    "cont_df = pd.DataFrame(zip(cont_ids, cont_ideos, cont_funds), columns=['id', 'ideology', 'funds_amount']) \n",
    "poli_df = pd.DataFrame(zip(poli_ids, poli_ideos, poli_funds), columns=['id', 'ideology', 'funds_amount']) "
   ]
  },
  {
   "cell_type": "code",
   "execution_count": 329,
   "metadata": {},
   "outputs": [
    {
     "data": {
      "text/html": [
       "<div>\n",
       "<style scoped>\n",
       "    .dataframe tbody tr th:only-of-type {\n",
       "        vertical-align: middle;\n",
       "    }\n",
       "\n",
       "    .dataframe tbody tr th {\n",
       "        vertical-align: top;\n",
       "    }\n",
       "\n",
       "    .dataframe thead th {\n",
       "        text-align: right;\n",
       "    }\n",
       "</style>\n",
       "<table border=\"1\" class=\"dataframe\">\n",
       "  <thead>\n",
       "    <tr style=\"text-align: right;\">\n",
       "      <th></th>\n",
       "      <th>id</th>\n",
       "      <th>ideology</th>\n",
       "      <th>funds_amount</th>\n",
       "    </tr>\n",
       "  </thead>\n",
       "  <tbody>\n",
       "    <tr>\n",
       "      <th>0</th>\n",
       "      <td>0</td>\n",
       "      <td>-0.523371</td>\n",
       "      <td>22.032693</td>\n",
       "    </tr>\n",
       "    <tr>\n",
       "      <th>1</th>\n",
       "      <td>1</td>\n",
       "      <td>0.139359</td>\n",
       "      <td>53.827221</td>\n",
       "    </tr>\n",
       "    <tr>\n",
       "      <th>2</th>\n",
       "      <td>2</td>\n",
       "      <td>0.966342</td>\n",
       "      <td>61.852709</td>\n",
       "    </tr>\n",
       "    <tr>\n",
       "      <th>3</th>\n",
       "      <td>3</td>\n",
       "      <td>-0.100776</td>\n",
       "      <td>69.985634</td>\n",
       "    </tr>\n",
       "    <tr>\n",
       "      <th>4</th>\n",
       "      <td>4</td>\n",
       "      <td>-1.901284</td>\n",
       "      <td>66.267262</td>\n",
       "    </tr>\n",
       "    <tr>\n",
       "      <th>5</th>\n",
       "      <td>5</td>\n",
       "      <td>-1.643326</td>\n",
       "      <td>61.313252</td>\n",
       "    </tr>\n",
       "    <tr>\n",
       "      <th>6</th>\n",
       "      <td>6</td>\n",
       "      <td>1.062148</td>\n",
       "      <td>41.049896</td>\n",
       "    </tr>\n",
       "    <tr>\n",
       "      <th>7</th>\n",
       "      <td>7</td>\n",
       "      <td>0.325502</td>\n",
       "      <td>58.136508</td>\n",
       "    </tr>\n",
       "    <tr>\n",
       "      <th>8</th>\n",
       "      <td>8</td>\n",
       "      <td>2.380328</td>\n",
       "      <td>71.767155</td>\n",
       "    </tr>\n",
       "    <tr>\n",
       "      <th>9</th>\n",
       "      <td>9</td>\n",
       "      <td>0.499039</td>\n",
       "      <td>29.139588</td>\n",
       "    </tr>\n",
       "  </tbody>\n",
       "</table>\n",
       "</div>"
      ],
      "text/plain": [
       "   id  ideology  funds_amount\n",
       "0   0 -0.523371     22.032693\n",
       "1   1  0.139359     53.827221\n",
       "2   2  0.966342     61.852709\n",
       "3   3 -0.100776     69.985634\n",
       "4   4 -1.901284     66.267262\n",
       "5   5 -1.643326     61.313252\n",
       "6   6  1.062148     41.049896\n",
       "7   7  0.325502     58.136508\n",
       "8   8  2.380328     71.767155\n",
       "9   9  0.499039     29.139588"
      ]
     },
     "execution_count": 329,
     "metadata": {},
     "output_type": "execute_result"
    }
   ],
   "source": [
    "cont_df.head(n=10)"
   ]
  },
  {
   "cell_type": "code",
   "execution_count": 330,
   "metadata": {},
   "outputs": [
    {
     "data": {
      "text/html": [
       "<div>\n",
       "<style scoped>\n",
       "    .dataframe tbody tr th:only-of-type {\n",
       "        vertical-align: middle;\n",
       "    }\n",
       "\n",
       "    .dataframe tbody tr th {\n",
       "        vertical-align: top;\n",
       "    }\n",
       "\n",
       "    .dataframe thead th {\n",
       "        text-align: right;\n",
       "    }\n",
       "</style>\n",
       "<table border=\"1\" class=\"dataframe\">\n",
       "  <thead>\n",
       "    <tr style=\"text-align: right;\">\n",
       "      <th></th>\n",
       "      <th>id</th>\n",
       "      <th>ideology</th>\n",
       "      <th>funds_amount</th>\n",
       "    </tr>\n",
       "  </thead>\n",
       "  <tbody>\n",
       "    <tr>\n",
       "      <th>0</th>\n",
       "      <td>0</td>\n",
       "      <td>-0.393094</td>\n",
       "      <td>73.699414</td>\n",
       "    </tr>\n",
       "    <tr>\n",
       "      <th>1</th>\n",
       "      <td>1</td>\n",
       "      <td>1.857107</td>\n",
       "      <td>52.655428</td>\n",
       "    </tr>\n",
       "    <tr>\n",
       "      <th>2</th>\n",
       "      <td>2</td>\n",
       "      <td>0.575520</td>\n",
       "      <td>119.574072</td>\n",
       "    </tr>\n",
       "    <tr>\n",
       "      <th>3</th>\n",
       "      <td>3</td>\n",
       "      <td>0.729238</td>\n",
       "      <td>0.000000</td>\n",
       "    </tr>\n",
       "    <tr>\n",
       "      <th>4</th>\n",
       "      <td>4</td>\n",
       "      <td>0.875593</td>\n",
       "      <td>0.000000</td>\n",
       "    </tr>\n",
       "    <tr>\n",
       "      <th>5</th>\n",
       "      <td>5</td>\n",
       "      <td>-0.680248</td>\n",
       "      <td>0.000000</td>\n",
       "    </tr>\n",
       "    <tr>\n",
       "      <th>6</th>\n",
       "      <td>6</td>\n",
       "      <td>-0.949776</td>\n",
       "      <td>72.101194</td>\n",
       "    </tr>\n",
       "    <tr>\n",
       "      <th>7</th>\n",
       "      <td>7</td>\n",
       "      <td>0.692799</td>\n",
       "      <td>0.000000</td>\n",
       "    </tr>\n",
       "    <tr>\n",
       "      <th>8</th>\n",
       "      <td>8</td>\n",
       "      <td>-0.105384</td>\n",
       "      <td>96.946477</td>\n",
       "    </tr>\n",
       "    <tr>\n",
       "      <th>9</th>\n",
       "      <td>9</td>\n",
       "      <td>1.010470</td>\n",
       "      <td>125.044645</td>\n",
       "    </tr>\n",
       "  </tbody>\n",
       "</table>\n",
       "</div>"
      ],
      "text/plain": [
       "   id  ideology  funds_amount\n",
       "0   0 -0.393094     73.699414\n",
       "1   1  1.857107     52.655428\n",
       "2   2  0.575520    119.574072\n",
       "3   3  0.729238      0.000000\n",
       "4   4  0.875593      0.000000\n",
       "5   5 -0.680248      0.000000\n",
       "6   6 -0.949776     72.101194\n",
       "7   7  0.692799      0.000000\n",
       "8   8 -0.105384     96.946477\n",
       "9   9  1.010470    125.044645"
      ]
     },
     "execution_count": 330,
     "metadata": {},
     "output_type": "execute_result"
    }
   ],
   "source": [
    "poli_df.head(n=10)"
   ]
  },
  {
   "cell_type": "code",
   "execution_count": 331,
   "metadata": {},
   "outputs": [
    {
     "name": "stdout",
     "output_type": "stream",
     "text": [
      "Contributor Ideology\n"
     ]
    },
    {
     "data": {
      "image/png": "[encoded data removed]",
      "text/plain": [
       "<Figure size 432x288 with 1 Axes>"
      ]
     },
     "metadata": {
      "needs_background": "light"
     },
     "output_type": "display_data"
    },
    {
     "name": "stdout",
     "output_type": "stream",
     "text": [
      "Politician Ideology\n"
     ]
    },
    {
     "data": {
      "image/png": "[encoded data removed]",
      "text/plain": [
       "<Figure size 432x288 with 1 Axes>"
      ]
     },
     "metadata": {
      "needs_background": "light"
     },
     "output_type": "display_data"
    },
    {
     "name": "stdout",
     "output_type": "stream",
     "text": [
      "Contributor funds\n"
     ]
    },
    {
     "data": {
      "image/png": "[encoded data removed]",
      "text/plain": [
       "<Figure size 432x288 with 1 Axes>"
      ]
     },
     "metadata": {
      "needs_background": "light"
     },
     "output_type": "display_data"
    },
    {
     "name": "stdout",
     "output_type": "stream",
     "text": [
      "Politician funds\n"
     ]
    },
    {
     "data": {
      "image/png": "[encoded data removed]",
      "text/plain": [
       "<Figure size 432x288 with 1 Axes>"
      ]
     },
     "metadata": {
      "needs_background": "light"
     },
     "output_type": "display_data"
    },
    {
     "data": {
      "text/plain": [
       "'\\n\\n\\n'"
      ]
     },
     "execution_count": 331,
     "metadata": {},
     "output_type": "execute_result"
    }
   ],
   "source": [
    "# Visualization currently not doing a great job showing relationship but you can quickly check what's going on. \n",
    "\n",
    "print('Contributor Ideology')\n",
    "sns.barplot(x='id', y='ideology', data=cont_df)\n",
    "plt.show()\n",
    "\n",
    "print('Politician Ideology')\n",
    "sns.barplot(x='id', y='ideology', data=poli_df)\n",
    "plt.show()\n",
    "\n",
    "print('Contributor funds')\n",
    "sns.barplot(x='id', y='funds_amount', data=cont_df)\n",
    "plt.show()\n",
    "\n",
    "print('Politician funds')\n",
    "sns.barplot(x='id', y='funds_amount', data=poli_df)\n",
    "plt.show()"
   ]
  },
  {
   "cell_type": "code",
   "execution_count": null,
   "metadata": {},
   "outputs": [],
   "source": []
  },
  {
   "cell_type": "code",
   "execution_count": null,
   "metadata": {},
   "outputs": [],
   "source": []
  },
  {
   "cell_type": "code",
   "execution_count": null,
   "metadata": {},
   "outputs": [],
   "source": []
  },
  {
   "cell_type": "markdown",
   "metadata": {},
   "source": [
    "# Scratch cells"
   ]
  },
  {
   "cell_type": "code",
   "execution_count": 148,
   "metadata": {},
   "outputs": [
    {
     "data": {
      "text/plain": [
       "(__main__.Contributor,\n",
       " {0: <__main__.Contributor at 0x116ec5588>,\n",
       "  1: <__main__.Contributor at 0x116ec5748>,\n",
       "  2: <__main__.Contributor at 0x116ec5978>,\n",
       "  3: <__main__.Contributor at 0x116fbf6a0>,\n",
       "  4: <__main__.Contributor at 0x116fbf400>,\n",
       "  5: <__main__.Contributor at 0x116fbf828>,\n",
       "  6: <__main__.Contributor at 0x116fbf668>,\n",
       "  7: <__main__.Contributor at 0x116fbff28>,\n",
       "  8: <__main__.Contributor at 0x116fbffd0>,\n",
       "  9: <__main__.Contributor at 0x116fbf748>})"
      ]
     },
     "execution_count": 148,
     "metadata": {},
     "output_type": "execute_result"
    }
   ],
   "source": [
    "list(model.schedule.agents_by_breed.items())[0]"
   ]
  },
  {
   "cell_type": "code",
   "execution_count": 125,
   "metadata": {},
   "outputs": [
    {
     "data": {
      "text/plain": [
       "[0, 1, 2, 3, 4, 5, 6, 7, 8, 9]"
      ]
     },
     "execution_count": 125,
     "metadata": {},
     "output_type": "execute_result"
    }
   ],
   "source": [
    "politician_ids"
   ]
  },
  {
   "cell_type": "code",
   "execution_count": 136,
   "metadata": {},
   "outputs": [
    {
     "data": {
      "text/html": [
       "<div>\n",
       "<style scoped>\n",
       "    .dataframe tbody tr th:only-of-type {\n",
       "        vertical-align: middle;\n",
       "    }\n",
       "\n",
       "    .dataframe tbody tr th {\n",
       "        vertical-align: top;\n",
       "    }\n",
       "\n",
       "    .dataframe thead th {\n",
       "        text-align: right;\n",
       "    }\n",
       "</style>\n",
       "<table border=\"1\" class=\"dataframe\">\n",
       "  <thead>\n",
       "    <tr style=\"text-align: right;\">\n",
       "      <th></th>\n",
       "      <th>id</th>\n",
       "      <th>amount</th>\n",
       "    </tr>\n",
       "  </thead>\n",
       "  <tbody>\n",
       "    <tr>\n",
       "      <th>0</th>\n",
       "      <td>0</td>\n",
       "      <td>29</td>\n",
       "    </tr>\n",
       "    <tr>\n",
       "      <th>1</th>\n",
       "      <td>1</td>\n",
       "      <td>17</td>\n",
       "    </tr>\n",
       "    <tr>\n",
       "      <th>2</th>\n",
       "      <td>2</td>\n",
       "      <td>17</td>\n",
       "    </tr>\n",
       "    <tr>\n",
       "      <th>3</th>\n",
       "      <td>3</td>\n",
       "      <td>22</td>\n",
       "    </tr>\n",
       "    <tr>\n",
       "      <th>4</th>\n",
       "      <td>4</td>\n",
       "      <td>12</td>\n",
       "    </tr>\n",
       "    <tr>\n",
       "      <th>5</th>\n",
       "      <td>5</td>\n",
       "      <td>24</td>\n",
       "    </tr>\n",
       "    <tr>\n",
       "      <th>6</th>\n",
       "      <td>6</td>\n",
       "      <td>16</td>\n",
       "    </tr>\n",
       "    <tr>\n",
       "      <th>7</th>\n",
       "      <td>7</td>\n",
       "      <td>21</td>\n",
       "    </tr>\n",
       "    <tr>\n",
       "      <th>8</th>\n",
       "      <td>8</td>\n",
       "      <td>18</td>\n",
       "    </tr>\n",
       "    <tr>\n",
       "      <th>9</th>\n",
       "      <td>9</td>\n",
       "      <td>24</td>\n",
       "    </tr>\n",
       "  </tbody>\n",
       "</table>\n",
       "</div>"
      ],
      "text/plain": [
       "   id  amount\n",
       "0   0      29\n",
       "1   1      17\n",
       "2   2      17\n",
       "3   3      22\n",
       "4   4      12\n",
       "5   5      24\n",
       "6   6      16\n",
       "7   7      21\n",
       "8   8      18\n",
       "9   9      24"
      ]
     },
     "execution_count": 136,
     "metadata": {},
     "output_type": "execute_result"
    }
   ],
   "source": [
    "\n"
   ]
  },
  {
   "cell_type": "code",
   "execution_count": 164,
   "metadata": {},
   "outputs": [],
   "source": [
    "ref = 0\n",
    "a = list(dict(list(model.schedule.agents_by_breed.items())[1][1]).values())\n"
   ]
  },
  {
   "cell_type": "code",
   "execution_count": 167,
   "metadata": {},
   "outputs": [],
   "source": []
  },
  {
   "cell_type": "code",
   "execution_count": 168,
   "metadata": {},
   "outputs": [
    {
     "data": {
      "text/plain": [
       "[0.42819531299676783,\n",
       " -1.1632237579132205,\n",
       " 0.05515820016792025,\n",
       " -0.5044792462356746,\n",
       " 1.0376220538164604,\n",
       " -1.0573050337753083,\n",
       " -1.0691097848838544,\n",
       " -1.0679040353534406,\n",
       " 0.6430629555186069,\n",
       " 2.104655995224139]"
      ]
     },
     "execution_count": 168,
     "metadata": {},
     "output_type": "execute_result"
    }
   ],
   "source": [
    "politician_ideologies"
   ]
  },
  {
   "cell_type": "code",
   "execution_count": 171,
   "metadata": {},
   "outputs": [
    {
     "data": {
      "text/plain": [
       "<__main__.Politician at 0x1174c1390>"
      ]
     },
     "execution_count": 171,
     "metadata": {},
     "output_type": "execute_result"
    }
   ],
   "source": []
  },
  {
   "cell_type": "code",
   "execution_count": 231,
   "metadata": {},
   "outputs": [
    {
     "data": {
      "text/plain": [
       "9"
      ]
     },
     "execution_count": 231,
     "metadata": {},
     "output_type": "execute_result"
    }
   ],
   "source": [
    "max(range(len(politician_ideologies)), key=lambda i: abs(politician_ideologies[i]-0))"
   ]
  },
  {
   "cell_type": "code",
   "execution_count": null,
   "metadata": {},
   "outputs": [],
   "source": []
  }
 ],
 "metadata": {
  "kernelspec": {
   "display_name": "Python 3",
   "language": "python",
   "name": "python3"
  },
  "language_info": {
   "codemirror_mode": {
    "name": "ipython",
    "version": 3
   },
   "file_extension": ".py",
   "mimetype": "text/x-python",
   "name": "python",
   "nbconvert_exporter": "python",
   "pygments_lexer": "ipython3",
   "version": "3.7.2"
  }
 },
 "nbformat": 4,
 "nbformat_minor": 2
}
